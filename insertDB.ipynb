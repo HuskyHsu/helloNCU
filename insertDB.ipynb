{
 "cells": [
  {
   "cell_type": "markdown",
   "metadata": {},
   "source": [
    "# 匯入資料到資料庫中\n",
    "\n",
    "這裡使用的SQL為MariaDB 10，python版本為3.5\n",
    "\n",
    "MariaDB為MySQL的分支，所以套件使用MySQL的即可  \n",
    "但官方的套件支援度沒這麼新(2016/09/26時)\n",
    "* MySQL-python只支援的2.X\n",
    "* Connector/Python只支援到3.4\n",
    "\n",
    "故採用第三方套件[PyMySQL](https://github.com/PyMySQL/PyMySQL \"PyMySQL\")，就可以連接MariaDB 10和python 3.5"
   ]
  },
  {
   "cell_type": "code",
   "execution_count": null,
   "metadata": {
    "collapsed": true
   },
   "outputs": [],
   "source": [
    "import pymysql\n",
    "from os import listdir\n"
   ]
  },
  {
   "cell_type": "markdown",
   "metadata": {},
   "source": [
    "## 匯入雨量站\n",
    "key(site+yyyymmddHHMMSS), site, datetime, value"
   ]
  },
  {
   "cell_type": "code",
   "execution_count": null,
   "metadata": {
    "collapsed": false
   },
   "outputs": [],
   "source": [
    "conn = pymysql.connect(host='localhost', port=3306, user='root', passwd='husky', db='mysql',charset='UTF8')\n",
    "\n",
    "\n",
    "for site in listdir('Pingtung/Precipitation'):\n",
    "    for file in listdir('Pingtung/Precipitation/' + site):\n",
    "        \n",
    "        fin = open('Pingtung/Precipitation/{}/{}'.format(site, file), 'rt' )\n",
    "        lines = fin.readlines()\n",
    "        fin.close()\n",
    "        \n",
    "        mydata = [{'key' : ''}]\n",
    "        \n",
    "        for line in lines:\n",
    "            data = line.split()\n",
    "            if len(data) < 8:\n",
    "                continue\n",
    "            siteName = data[0]\n",
    "            date = '{}-{}-{} {}:00:00'.format(data[1][0:4], data[1][4:6], data[1][6:8],'0' + str(int(data[1][8:10]) - 1) if int(data[1][8:10]) - 1 < 10 else str(int(data[1][8:10]) - 1))\n",
    "            value = None if float(data[7]) < 0 else data[7]\n",
    "            \n",
    "            if siteName + data[1] != mydata[-1:][0]['key']:\n",
    "                mydata.append({'key': siteName + data[1], 'site': siteName, 'date': date, 'value': value })\n",
    "        \n",
    "        mydata.pop(0)\n",
    "        if len(mydata) == 0:\n",
    "            continue\n",
    "        try:\n",
    "            with conn.cursor() as cursor:\n",
    "                sql = \"INSERT INTO `ncu`.`precipitation` (`key`, `site`, `date`, `value`) VALUES (%(key)s, %(site)s, %(date)s, %(value)s);\"\n",
    "                cursor.executemany(sql, mydata)\n",
    "            conn.commit()\n",
    "        except:\n",
    "            print(site, file)\n",
    "            conn.close()\n",
    "        \n",
    "    print(site)\n",
    "    \n",
    "conn.close()"
   ]
  },
  {
   "cell_type": "markdown",
   "metadata": {
    "collapsed": true
   },
   "source": [
    "## 匯入水位站\n",
    "key(site+yyyymmddHHMMSS), site, datetime, value"
   ]
  },
  {
   "cell_type": "code",
   "execution_count": null,
   "metadata": {
    "collapsed": false
   },
   "outputs": [],
   "source": [
    "v1Site = ['12010111','12020111','12020211','12030111','12030211','12030311','12040111','12040211','12040311','12190211','12200211','122013M2','12210111','13010111','13010211','130111M2','13030211','13050111','13050211','130511M2','13100111','13110111','13110411','131111M1','13120211','131211M2','13130311','131312M2','13140111','13140211','131411M3','13150111','13150211','13150311','13150411','131512M2','13160111','13160211','13160212','13160311','13160411','13170111','13180111','13180211','13190111','13190112','13210111','13210112','13280111']\n",
    "\n",
    "conn = pymysql.connect(host='localhost', port=3306, user='root', passwd='husky', db='mysql', charset='UTF8')\n",
    "\n",
    "\n",
    "for file in listdir('Pingtung/Well'):\n",
    "    site = file.split('_')[0]\n",
    "    yyyy = file.split('_')[1][:4]\n",
    "    if site in v1Site:\n",
    "        \n",
    "        fin = open('Pingtung/Well/{}'.format(file), 'rt' )\n",
    "        lines = fin.readlines()\n",
    "        fin.close()\n",
    "            \n",
    "        mydata = [{'key' : ''}]\n",
    "            \n",
    "        for line in lines:\n",
    "            data = line.split()\n",
    "            if len(data) < 3 or len(data[1]) < 8 or len(data[0]) < 10 or yyyy != data[0][:4]:\n",
    "                continue\n",
    "            \n",
    "            ymd = data[0].split('-')\n",
    "            mhs = data[1].split(':')\n",
    "            \n",
    "            key = '{}{}{}{}{}'.format(site, ymd[0], ymd[1], ymd[2], mhs[0])\n",
    "            date = '{} {}'.format(data[0], data[1])\n",
    "            value = None if float(data[2]) < 0 else data[2]\n",
    "            \n",
    "            if key != mydata[-1:][0]['key']:\n",
    "                mydata.append({'key': key, 'site': site, 'date': date, 'value': value })\n",
    "                \n",
    "        mydata.pop(0)\n",
    "        if len(mydata) == 0:\n",
    "            continue\n",
    "        try:\n",
    "            with conn.cursor() as cursor:\n",
    "                sql = \"INSERT INTO `ncu`.`well` (`key`, `site`, `date`, `value`) VALUES (%(key)s, %(site)s, %(date)s, %(value)s);\"\n",
    "                cursor.executemany(sql, mydata)\n",
    "            conn.commit()\n",
    "        except:\n",
    "            print(site, file)\n",
    "            conn.close()\n",
    "                \n",
    "        print(file)\n",
    "conn.close()"
   ]
  }
 ],
 "metadata": {
  "anaconda-cloud": {},
  "kernelspec": {
   "display_name": "Python [Root]",
   "language": "python",
   "name": "Python [Root]"
  },
  "language_info": {
   "codemirror_mode": {
    "name": "ipython",
    "version": 3
   },
   "file_extension": ".py",
   "mimetype": "text/x-python",
   "name": "python",
   "nbconvert_exporter": "python",
   "pygments_lexer": "ipython3",
   "version": "3.5.2"
  }
 },
 "nbformat": 4,
 "nbformat_minor": 0
}
